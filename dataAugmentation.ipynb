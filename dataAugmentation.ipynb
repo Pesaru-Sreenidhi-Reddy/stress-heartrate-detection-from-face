{
 "cells": [
  {
   "cell_type": "code",
   "execution_count": 1,
   "id": "d91ffb2c",
   "metadata": {},
   "outputs": [
    {
     "name": "stderr",
     "output_type": "stream",
     "text": [
      "2024-04-28 17:38:27.806040: I tensorflow/core/platform/cpu_feature_guard.cc:182] This TensorFlow binary is optimized to use available CPU instructions in performance-critical operations.\n",
      "To enable the following instructions: AVX2 FMA, in other operations, rebuild TensorFlow with the appropriate compiler flags.\n"
     ]
    }
   ],
   "source": [
    "from tensorflow.keras.preprocessing.image import ImageDataGenerator,load_img,img_to_array,array_to_img\n",
    "import os"
   ]
  },
  {
   "cell_type": "code",
   "execution_count": 2,
   "id": "1e7a3d76",
   "metadata": {},
   "outputs": [],
   "source": [
    "datagen = ImageDataGenerator(\n",
    "        rotation_range=20,\n",
    "        width_shift_range=0.2,\n",
    "        height_shift_range=0.2,\n",
    "        shear_range=0.25,\n",
    "        zoom_range=0.2,\n",
    "        horizontal_flip=True,\n",
    "        fill_mode='nearest')"
   ]
  },
  {
   "cell_type": "code",
   "execution_count": 6,
   "id": "396c60bb",
   "metadata": {},
   "outputs": [],
   "source": [
    "classes=['stressed person portrait','relaxed or happy person portrait']\n",
    "extensions = ['jpg', 'jpeg', 'png']\n",
    "os.mkdir('augmented')\n",
    "os.mkdir('augmented/stressed person portrait')\n",
    "os.mkdir('augmented/relaxed or happy person portrait')"
   ]
  },
  {
   "cell_type": "code",
   "execution_count": 7,
   "id": "d9018cca",
   "metadata": {},
   "outputs": [
    {
     "name": "stderr",
     "output_type": "stream",
     "text": [
      "/Users/sreenidhireddy/anaconda3/lib/python3.11/site-packages/PIL/Image.py:996: UserWarning: Palette images with Transparency expressed in bytes should be converted to RGBA images\n",
      "  warnings.warn(\n"
     ]
    }
   ],
   "source": [
    "for class_name in classes:\n",
    "    for i in range(1,101):\n",
    "        for ext in extensions:\n",
    "            img_path = f'StressDataOriginal/{class_name}/Image_{i}.{ext}'\n",
    "            if os.path.exists(img_path):\n",
    "                img = load_img(img_path)\n",
    "                x=img_to_array(img)\n",
    "                x=x.reshape((1,)+x.shape)\n",
    "                imgind=0\n",
    "                for batch in datagen.flow(x,batch_size=1,save_to_dir=f'augmented/{class_name}',save_format='jpg'):\n",
    "                    imgind += 1\n",
    "                    if imgind > 10:\n",
    "                        break"
   ]
  },
  {
   "cell_type": "code",
   "execution_count": null,
   "id": "a0a4b015",
   "metadata": {},
   "outputs": [],
   "source": []
  }
 ],
 "metadata": {
  "kernelspec": {
   "display_name": "Python 3 (ipykernel)",
   "language": "python",
   "name": "python3"
  },
  "language_info": {
   "codemirror_mode": {
    "name": "ipython",
    "version": 3
   },
   "file_extension": ".py",
   "mimetype": "text/x-python",
   "name": "python",
   "nbconvert_exporter": "python",
   "pygments_lexer": "ipython3",
   "version": "3.11.5"
  }
 },
 "nbformat": 4,
 "nbformat_minor": 5
}
