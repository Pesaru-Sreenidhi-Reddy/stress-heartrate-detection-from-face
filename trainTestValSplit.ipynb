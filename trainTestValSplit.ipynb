{
 "cells": [
  {
   "cell_type": "code",
   "execution_count": 1,
   "id": "e29f48c6",
   "metadata": {},
   "outputs": [],
   "source": [
    "import os\n",
    "import shutil"
   ]
  },
  {
   "cell_type": "code",
   "execution_count": 2,
   "id": "26dcf66a",
   "metadata": {},
   "outputs": [],
   "source": [
    "os.rename('augmented/stressed person portrait','augmented/stressed')"
   ]
  },
  {
   "cell_type": "code",
   "execution_count": 3,
   "id": "0e34038b",
   "metadata": {},
   "outputs": [],
   "source": [
    "os.rename('augmented/relaxed or happy person portrait','augmented/not_stressed')"
   ]
  },
  {
   "cell_type": "code",
   "execution_count": 4,
   "id": "20f0c13b",
   "metadata": {},
   "outputs": [],
   "source": [
    "inp_folder=\"augmented\"\n",
    "output_folder=\"Stressdataset\""
   ]
  },
  {
   "cell_type": "code",
   "execution_count": 5,
   "id": "04ed7a19",
   "metadata": {},
   "outputs": [],
   "source": [
    "train_ratio = 0.8\n",
    "test_ratio = 0.1\n",
    "validate_ratio = 0.1"
   ]
  },
  {
   "cell_type": "code",
   "execution_count": 6,
   "id": "12d92b0c",
   "metadata": {},
   "outputs": [],
   "source": [
    "def split_images(inp_folder, output_folder, train_ratio, test_ratio, validate_ratio):\n",
    "    for category in os.listdir(inp_folder):\n",
    "        category_path = os.path.join(inp_folder, category)\n",
    "        if os.path.isdir(category_path):\n",
    "            image_list = os.listdir(category_path)\n",
    "            \n",
    "            train_count = int(len(image_list) * train_ratio)\n",
    "            test_count = int(len(image_list) * test_ratio)\n",
    "            validate_count = int(len(image_list) * validate_ratio)\n",
    "            \n",
    "            train_images = image_list[:train_count]\n",
    "            test_images = image_list[train_count:train_count+test_count]\n",
    "            validate_images = image_list[train_count+test_count:]\n",
    "            \n",
    "            for img in train_images:\n",
    "                src = os.path.join(category_path, img)\n",
    "                dest = os.path.join(f\"{output_folder}/train\", category)\n",
    "                os.makedirs(dest, exist_ok=True)\n",
    "                shutil.copy(src, dest)\n",
    "            \n",
    "            for img in test_images:\n",
    "                src = os.path.join(category_path, img)\n",
    "                dest = os.path.join(f\"{output_folder}/test\", category)\n",
    "                os.makedirs(dest, exist_ok=True)\n",
    "                shutil.copy(src, dest)\n",
    "                \n",
    "            for img in validate_images:\n",
    "                src = os.path.join(category_path, img)\n",
    "                dest = os.path.join(f\"{output_folder}/validate\", category)\n",
    "                os.makedirs(dest, exist_ok=True)\n",
    "                shutil.copy(src, dest)"
   ]
  },
  {
   "cell_type": "code",
   "execution_count": 7,
   "id": "e232fe4a",
   "metadata": {},
   "outputs": [],
   "source": [
    "split_images(inp_folder, output_folder, train_ratio, test_ratio, validate_ratio)"
   ]
  },
  {
   "cell_type": "code",
   "execution_count": null,
   "id": "91db774b",
   "metadata": {},
   "outputs": [],
   "source": []
  }
 ],
 "metadata": {
  "kernelspec": {
   "display_name": "Python 3 (ipykernel)",
   "language": "python",
   "name": "python3"
  },
  "language_info": {
   "codemirror_mode": {
    "name": "ipython",
    "version": 3
   },
   "file_extension": ".py",
   "mimetype": "text/x-python",
   "name": "python",
   "nbconvert_exporter": "python",
   "pygments_lexer": "ipython3",
   "version": "3.11.5"
  }
 },
 "nbformat": 4,
 "nbformat_minor": 5
}
